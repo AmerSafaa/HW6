{
 "cells": [
  {
   "cell_type": "code",
   "execution_count": 67,
   "metadata": {
    "collapsed": true
   },
   "outputs": [],
   "source": [
    "# Safaa Amer\n",
    "# GW Analytics Bootcampe\n",
    "# Homework 6 "
   ]
  },
  {
   "cell_type": "code",
   "execution_count": 78,
   "metadata": {
    "collapsed": true
   },
   "outputs": [],
   "source": [
    "# Dependencies\n",
    "import numpy as np\n",
    "import pandas as pd\n",
    "import matplotlib.pyplot as plt\n",
    "import requests\n",
    "import openweathermapy.core as ow\n",
    "from citipy import citipy\n",
    "from collections import OrderedDict\n",
    "\n"
   ]
  },
  {
   "cell_type": "code",
   "execution_count": 71,
   "metadata": {},
   "outputs": [
    {
     "data": {
      "text/plain": [
       "array([[ -75.7354375 ,   33.73166934],\n",
       "       [  -7.29747325,   -7.69145661],\n",
       "       [  52.52774967,  175.70262573],\n",
       "       ..., \n",
       "       [ -36.70759022,  -76.19484137],\n",
       "       [  22.33008972,   10.20419821],\n",
       "       [  71.94817931, -123.99041239]])"
      ]
     },
     "execution_count": 71,
     "metadata": {},
     "output_type": "execute_result"
    }
   ],
   "source": [
    "# Generate 500 random numbers for longitude and latitude\n",
    "#Latitude measurements range from 0° to (+/–)90°\n",
    "#Longitude measures how far east or west of the prime meridian a place is located. \n",
    "#The prime meridian runs through Greenwich, England\n",
    "#Longitude measurements range from 0° to (+/–)180°.\n",
    "\n",
    "#array of 100 random numbers from [-90, 90):\n",
    "\n",
    "randlat= 180 * np.random.random_sample((600, 1)) - 90 # 600 random number for latitude\n",
    "randlong= 360 * np.random.random_sample((600,1)) - 180 # 600 random number for longitude\n",
    "coordinates = np.c_[randlat, randlong]\n",
    "coordinates\n"
   ]
  },
  {
   "cell_type": "code",
   "execution_count": 83,
   "metadata": {},
   "outputs": [
    {
     "data": {
      "text/plain": [
       "array(['port elizabeth', 'georgetown', 'nikolskoye', 'busselton',\n",
       "       'taolanaro', 'poum', 'dikson', 'sura', 'ushuaia', 'hermanus',\n",
       "       'orocue', 'khani', 'busselton', 'raposa', 'barentsburg',\n",
       "       'mitsamiouli', 'maryville', 'airai', 'barrow', 'rikitea',\n",
       "       'esperance', 'vaini', 'yerofey pavlovich', 'carnarvon', 'saldanha',\n",
       "       'ponta do sol', 'fort nelson', 'narsaq', 'atuona', 'ushuaia',\n",
       "       'yellowknife', 'esperance', 'bethel', 'blackwater', 'chokurdakh',\n",
       "       'tumannyy', 'hithadhoo', 'pangnirtung', 'punta arenas',\n",
       "       'punta arenas', 'marabba', 'alofi', 'kandrian', 'belushya guba',\n",
       "       'vaini', 'lompoc', 'puerto ayora', 'ostrovnoy', 'santa isabel',\n",
       "       'tromso', 'otorohanga', 'okhotsk', 'kitakami', 'kaitangata',\n",
       "       'atuona', 'bryan', 'jamestown', 'parana', 'ellon', 'atuona',\n",
       "       'ushuaia', 'kidal', 'cape town', 'puerto escondido', 'novopokrovka',\n",
       "       'mys shmidta', 'bredasdorp', 'nagato', 'hualmay', 'rikitea',\n",
       "       'tuatapere', 'tasiilaq', 'ushuaia', 'thompson', 'punta arenas',\n",
       "       'bredasdorp', 'takoradi', 'atuona', 'mackay', 'orem', 'ilulissat',\n",
       "       'airai', 'saskylakh', 'lipany', 'bathsheba', 'terney', 'lavrentiya',\n",
       "       'marcona', 'mar del plata', 'ikare', 'bredasdorp', 'norton shores',\n",
       "       'hilo', 'mataura', 'novo aripuana', 'mecca', 'ambodifototra',\n",
       "       'rikitea', 'bluff', 'mataura', 'rikitea', 'arraial do cabo',\n",
       "       'kuche', 'saleaula', 'port alfred', 'chokurdakh', 'richards bay',\n",
       "       'rikitea', 'markova', 'rikitea', 'bac lieu', 'arraial do cabo',\n",
       "       'albany', 'new norfolk', 'norman wells', 'punta arenas',\n",
       "       'krasnoselkup', 'smithers', 'busselton', 'albany', 'waipawa',\n",
       "       'hasaki', 'severo-kurilsk', 'butaritari', 'vila franca do campo',\n",
       "       'delta', 'yanan', 'vaini', 'kirovskiy', 'tuktoyaktuk', 'alyangula',\n",
       "       'khatanga', 'mys shmidta', 'havre-saint-pierre', 'umzimvubu',\n",
       "       'karratha', 'khatanga', 'kasongo-lunda', 'kudahuvadhoo', 'tasiilaq',\n",
       "       'barentsburg', 'ushuaia', 'punta arenas', 'ushuaia', 'ushuaia',\n",
       "       'rikitea', 'illoqqortoormiut', 'semnan', 'torbay', 'yellowknife',\n",
       "       'ushuaia', 'olafsvik', 'fort nelson', 'listvyagi', 'teknaf',\n",
       "       'belushya guba', 'ust-nera', 'santa cruz', 'mataura', 'kaitangata',\n",
       "       'cape town', 'arraial do cabo', 'punta arenas', 'soe', 'tiksi',\n",
       "       'rawannawi', 'talnakh', 'camacha', 'airai', 'taolanaro',\n",
       "       'mugur-aksy', 'kazachinskoye', 'ushuaia', 'barentsburg',\n",
       "       'yerofey pavlovich', 'mahebourg', 'lasa', 'salinopolis', 'dikson',\n",
       "       'vaini', 'jamestown', 'vaini', 'ketchikan', 'beyneu', 'jamestown',\n",
       "       'mokrousovo', 'ushuaia', 'gushikawa', 'carnarvon', 'inhambane',\n",
       "       'new norfolk', 'yerbogachen', 'tarudant', 'asau', 'kambove',\n",
       "       'barrow', 'mataura', 'dikson', 'busselton', 'mount isa',\n",
       "       'cape town', 'rikitea', 'luderitz', 'ilulissat', 'jamestown',\n",
       "       'kalikapur', 'albany', 'barrow', 'chuy', 'dikson', 'quatre cocos',\n",
       "       'thompson', 'yellowknife', 'hobart', 'arraial do cabo', 'lebu',\n",
       "       'cape town', 'elat', 'uwayl', 'kapaa', 'port alfred', 'talnakh',\n",
       "       'sao filipe', 'guerrero negro', 'puerto ayora', 'borod', 'mataura',\n",
       "       'cape town', 'butaritari', 'chokurdakh', 'atar', 'rikitea',\n",
       "       'bredasdorp', 'illoqqortoormiut', 'new norfolk', 'bredasdorp',\n",
       "       'mar del plata', 'cervo', 'kapaa', 'nelson bay', 'nanortalik',\n",
       "       'raudeberg', 'ushuaia', 'illoqqortoormiut', 'mahibadhoo', 'nguiu',\n",
       "       'grimari', 'albany', 'yellowknife', 'tiksi', 'butaritari',\n",
       "       'ushuaia', 'vila franca do campo', 'taolanaro', 'khomeynishahr',\n",
       "       'victoria', 'puerto ayora', 'bengkulu', 'upernavik', 'el alto',\n",
       "       'port lincoln', 'yarmouth', 'albany', 'new norfolk', 'zambezi',\n",
       "       'xique-xique', 'saint-philippe', 'mataura', 'geraldton',\n",
       "       'green valley', 'demba', 'qaanaaq', 'puerto ayora', 'lebu',\n",
       "       'busselton', 'cabo san lucas', 'kushikino', 'tasiilaq', 'senanga',\n",
       "       'bredasdorp', 'cascais', 'yellowknife', 'rikitea', 'buchanan',\n",
       "       'saldanha', 'port lincoln', 'cairns', 'albany', 'hilo', 'mataura',\n",
       "       'deori', 'jamestown', 'mount gambier', 'rikitea', 'bengkulu',\n",
       "       'ponta do sol', 'east london', 'cape town', 'saldanha', 'ngukurr',\n",
       "       'half moon bay', 'colares', 'upernavik', 'ribeira grande',\n",
       "       'chinchani', 'dikson', 'punta arenas', 'punta arenas', 'vaini',\n",
       "       'severo-kurilsk', 'nikolskoye', 'north platte', 'evensk', 'ushuaia',\n",
       "       'catemaco', 'yellowknife', 'poum', 'illoqqortoormiut', 'hasanpur',\n",
       "       'dillon', 'kavieng', 'tapah', 'longyearbyen', 'smithers',\n",
       "       'busselton', 'benguela', 'kanniyakumari', 'dikson', 'bethel',\n",
       "       'tabuk', 'puerto ayora', 'kaitangata', 'avarua', 'tura', 'avarua',\n",
       "       'nikolskoye', 'phrai bung', 'lebu', 'taolanaro', 'hanzhong',\n",
       "       'nikolskoye', 'atuona', 'ostrovnoy', 'cape town', 'albany',\n",
       "       'lusambo', 'hithadhoo', 'omboue', 'prunisor', 'hasaki',\n",
       "       'barentsburg', 'new norfolk', 'hobyo', 'vestmannaeyjar', 'ancud',\n",
       "       'ushuaia', 'taolanaro', 'rikitea', 'port hardy', 'naze', 'hobart',\n",
       "       'tacoronte', 'butaritari', 'vaitape', 'illoqqortoormiut',\n",
       "       'saleaula', 'anuradhapura', 'maua', 'tasiilaq', 'huron', 'lagoa',\n",
       "       'ayan', 'burnie', 'coquimbo', 'avarua', 'comodoro rivadavia',\n",
       "       'thompson', 'kapaa', 'palm springs', 'saint anthony', 'hithadhoo',\n",
       "       'bady bassitt', 'zhezkazgan', 'qui nhon', 'vestmannaeyjar',\n",
       "       'cidreira', 'albany', 'beit jann', 'cabo san lucas',\n",
       "       'bambous virieux', 'chokurdakh', 'mys shmidta', 'dolores',\n",
       "       'qaanaaq', 'rikitea', 'xai-xai', 'ushuaia', 'acapulco',\n",
       "       'tuktoyaktuk', 'tasiilaq', 'aitape', 'illoqqortoormiut',\n",
       "       'bathsheba', 'malwan', 'nanortalik', 'upernavik', 'qaanaaq',\n",
       "       'illoqqortoormiut', 'hermanus', 'hithadhoo', 'gat', 'cape town',\n",
       "       'bethel', 'cidreira', 'samarai', 'bluff', 'bonthe', 'svit', 'poum',\n",
       "       'attawapiskat', 'tarudant', 'cidreira', 'geraldton', 'vila',\n",
       "       'geraldton', 'cape town', 'mataura', 'liniere', 'illoqqortoormiut',\n",
       "       'haines junction', 'rikitea', 'mahebourg', 'san patricio', 'barrow',\n",
       "       'allende', 'ishigaki', 'sulangan', 'bluff',\n",
       "       'grand river south east', 'punta arenas', 'hobart', 'barentsburg',\n",
       "       'cape town', 'talara', 'victoria', 'belmonte', 'berlevag',\n",
       "       'rikitea', 'castro', 'mahebourg', 'cape town', 'rikitea',\n",
       "       'nikolskoye', 'qaanaaq', 'khatanga', 'taolanaro', 'bluff',\n",
       "       'port alfred', 'severo-kurilsk', 'hilo', 'east london', 'cape town',\n",
       "       'klaksvik', 'saskylakh', 'vaini', 'ugoofaaru', 'mehamn',\n",
       "       'umzimvubu', 'zhenhai', 'port elizabeth', 'vila franca do campo',\n",
       "       'taolanaro', 'palana', 'acari', 'atuona', 'pisco', 'ahuimanu',\n",
       "       'fairbanks', 'taolanaro', 'ushuaia', 'mataura', 'bluff', 'poum',\n",
       "       'hermanus', 'qaanaaq', 'vaitupu', 'kodiak', 'rikitea', 'albany',\n",
       "       'ciras', 'qafsah', 'hambantota', 'korla', 'ayan', 'mataura',\n",
       "       'mataura', 'georgetown', 'tasiilaq', 'rikitea', 'rikitea',\n",
       "       'arraial do cabo', 'dikson', 'thompson', 'vaini', 'port blair',\n",
       "       'hobart', 'kenai', 'pemangkat', 'ahipara', 'lompoc', 'cidreira',\n",
       "       'burnie', 'bethel', 'albany', 'illoqqortoormiut', 'vaini',\n",
       "       'port elizabeth', 'new norfolk', 'new norfolk', 'rikitea',\n",
       "       'punta arenas', 'attawapiskat', 'oussouye', 'prince rupert', 'nome',\n",
       "       'alofi', 'aklavik', 'castro', 'punta arenas', 'lyubech',\n",
       "       'pastos bons', 'bluff', 'cabo san lucas', 'sao filipe', 'pisco',\n",
       "       'ketchikan', 'cidreira', 'rikitea', 'burica', 'saskylakh',\n",
       "       'ostrovnoy', 'wagar', 'shalinskoye', 'norman wells', 'torbay',\n",
       "       'tsihombe', 'jatiroto', 'butaritari', 'santa maria', 'yenagoa',\n",
       "       'tura', 'singkang', 'vaini', 'santa maria', 'tupik', 'hilo',\n",
       "       'alice', 'eirunepe', 'thompson', 'ferme-neuve', 'bluff', 'kribi',\n",
       "       'cape town', 'tombouctou', 'ewa beach', 'nemuro', 'atuona',\n",
       "       'bredasdorp', 'saldanha', 'bredasdorp', 'busselton', 'ushuaia',\n",
       "       'havelock', 'mentok', 'georgetown', 'mataura', 'auki', 'hermanus',\n",
       "       'peterhead', 'rikitea', 'bluff', 'saskylakh', 'tsihombe', 'qaanaaq',\n",
       "       'castro', 'nome', 'kandrian', 'san quintin', 'mahebourg',\n",
       "       'georgetown', 'georgetown', 'albany', 'dikson', 'bethel', 'cairns',\n",
       "       'mataura', 'santa cruz', 'lebu', 'gat', 'norman wells'],\n",
       "      dtype='<U22')"
      ]
     },
     "execution_count": 83,
     "metadata": {},
     "output_type": "execute_result"
    }
   ],
   "source": [
    "# identify nearest cities to the random pairs of latitude and longitude from citipy\n",
    "# skip coordinates which do not correspond to a city\n",
    "cities = []\n",
    "for coordinate_pair in coordinates:\n",
    "    randlat, randlong = coordinate_pair\n",
    "    cities.append(citipy.nearest_city(randlat, randlong))\n",
    "\n",
    "name_of_city =[]\n",
    "country_code =[]\n",
    "try:\n",
    "    for city in cities:\n",
    "        country_code.append(city.country_code)\n",
    "        name_of_city.append(city.city_name)\n",
    "except Exception:\n",
    "    pass\n",
    "\n",
    "OrderedDict((X, True) for X in name_of_city).keys() # to remove duplicates while keeping order\n",
    "name_of_city = np.asarray(name_of_city) #convert list into array\n",
    "name_of_city\n"
   ]
  },
  {
   "cell_type": "code",
   "execution_count": 86,
   "metadata": {},
   "outputs": [
    {
     "ename": "ValueError",
     "evalue": "Shape of passed values is (7, 2), indices imply (7, 500)",
     "output_type": "error",
     "traceback": [
      "\u001b[1;31m---------------------------------------------------------------------------\u001b[0m",
      "\u001b[1;31mValueError\u001b[0m                                Traceback (most recent call last)",
      "\u001b[1;32m~\\Anaconda3\\lib\\site-packages\\pandas\\core\\internals.py\u001b[0m in \u001b[0;36mcreate_block_manager_from_arrays\u001b[1;34m(arrays, names, axes)\u001b[0m\n\u001b[0;32m   4309\u001b[0m         \u001b[0mblocks\u001b[0m \u001b[1;33m=\u001b[0m \u001b[0mform_blocks\u001b[0m\u001b[1;33m(\u001b[0m\u001b[0marrays\u001b[0m\u001b[1;33m,\u001b[0m \u001b[0mnames\u001b[0m\u001b[1;33m,\u001b[0m \u001b[0maxes\u001b[0m\u001b[1;33m)\u001b[0m\u001b[1;33m\u001b[0m\u001b[0m\n\u001b[1;32m-> 4310\u001b[1;33m         \u001b[0mmgr\u001b[0m \u001b[1;33m=\u001b[0m \u001b[0mBlockManager\u001b[0m\u001b[1;33m(\u001b[0m\u001b[0mblocks\u001b[0m\u001b[1;33m,\u001b[0m \u001b[0maxes\u001b[0m\u001b[1;33m)\u001b[0m\u001b[1;33m\u001b[0m\u001b[0m\n\u001b[0m\u001b[0;32m   4311\u001b[0m         \u001b[0mmgr\u001b[0m\u001b[1;33m.\u001b[0m\u001b[0m_consolidate_inplace\u001b[0m\u001b[1;33m(\u001b[0m\u001b[1;33m)\u001b[0m\u001b[1;33m\u001b[0m\u001b[0m\n",
      "\u001b[1;32m~\\Anaconda3\\lib\\site-packages\\pandas\\core\\internals.py\u001b[0m in \u001b[0;36m__init__\u001b[1;34m(self, blocks, axes, do_integrity_check, fastpath)\u001b[0m\n\u001b[0;32m   2794\u001b[0m         \u001b[1;32mif\u001b[0m \u001b[0mdo_integrity_check\u001b[0m\u001b[1;33m:\u001b[0m\u001b[1;33m\u001b[0m\u001b[0m\n\u001b[1;32m-> 2795\u001b[1;33m             \u001b[0mself\u001b[0m\u001b[1;33m.\u001b[0m\u001b[0m_verify_integrity\u001b[0m\u001b[1;33m(\u001b[0m\u001b[1;33m)\u001b[0m\u001b[1;33m\u001b[0m\u001b[0m\n\u001b[0m\u001b[0;32m   2796\u001b[0m \u001b[1;33m\u001b[0m\u001b[0m\n",
      "\u001b[1;32m~\\Anaconda3\\lib\\site-packages\\pandas\\core\\internals.py\u001b[0m in \u001b[0;36m_verify_integrity\u001b[1;34m(self)\u001b[0m\n\u001b[0;32m   3005\u001b[0m             \u001b[1;32mif\u001b[0m \u001b[0mblock\u001b[0m\u001b[1;33m.\u001b[0m\u001b[0m_verify_integrity\u001b[0m \u001b[1;32mand\u001b[0m \u001b[0mblock\u001b[0m\u001b[1;33m.\u001b[0m\u001b[0mshape\u001b[0m\u001b[1;33m[\u001b[0m\u001b[1;36m1\u001b[0m\u001b[1;33m:\u001b[0m\u001b[1;33m]\u001b[0m \u001b[1;33m!=\u001b[0m \u001b[0mmgr_shape\u001b[0m\u001b[1;33m[\u001b[0m\u001b[1;36m1\u001b[0m\u001b[1;33m:\u001b[0m\u001b[1;33m]\u001b[0m\u001b[1;33m:\u001b[0m\u001b[1;33m\u001b[0m\u001b[0m\n\u001b[1;32m-> 3006\u001b[1;33m                 \u001b[0mconstruction_error\u001b[0m\u001b[1;33m(\u001b[0m\u001b[0mtot_items\u001b[0m\u001b[1;33m,\u001b[0m \u001b[0mblock\u001b[0m\u001b[1;33m.\u001b[0m\u001b[0mshape\u001b[0m\u001b[1;33m[\u001b[0m\u001b[1;36m1\u001b[0m\u001b[1;33m:\u001b[0m\u001b[1;33m]\u001b[0m\u001b[1;33m,\u001b[0m \u001b[0mself\u001b[0m\u001b[1;33m.\u001b[0m\u001b[0maxes\u001b[0m\u001b[1;33m)\u001b[0m\u001b[1;33m\u001b[0m\u001b[0m\n\u001b[0m\u001b[0;32m   3007\u001b[0m         \u001b[1;32mif\u001b[0m \u001b[0mlen\u001b[0m\u001b[1;33m(\u001b[0m\u001b[0mself\u001b[0m\u001b[1;33m.\u001b[0m\u001b[0mitems\u001b[0m\u001b[1;33m)\u001b[0m \u001b[1;33m!=\u001b[0m \u001b[0mtot_items\u001b[0m\u001b[1;33m:\u001b[0m\u001b[1;33m\u001b[0m\u001b[0m\n",
      "\u001b[1;32m~\\Anaconda3\\lib\\site-packages\\pandas\\core\\internals.py\u001b[0m in \u001b[0;36mconstruction_error\u001b[1;34m(tot_items, block_shape, axes, e)\u001b[0m\n\u001b[0;32m   4279\u001b[0m     raise ValueError(\"Shape of passed values is {0}, indices imply {1}\".format(\n\u001b[1;32m-> 4280\u001b[1;33m         passed, implied))\n\u001b[0m\u001b[0;32m   4281\u001b[0m \u001b[1;33m\u001b[0m\u001b[0m\n",
      "\u001b[1;31mValueError\u001b[0m: Shape of passed values is (7, 2), indices imply (7, 500)",
      "\nDuring handling of the above exception, another exception occurred:\n",
      "\u001b[1;31mValueError\u001b[0m                                Traceback (most recent call last)",
      "\u001b[1;32m<ipython-input-86-b4c0856b1eb6>\u001b[0m in \u001b[0;36m<module>\u001b[1;34m()\u001b[0m\n\u001b[0;32m     13\u001b[0m     \u001b[1;32mpass\u001b[0m\u001b[1;33m\u001b[0m\u001b[0m\n\u001b[0;32m     14\u001b[0m \u001b[1;33m\u001b[0m\u001b[0m\n\u001b[1;32m---> 15\u001b[1;33m \u001b[0mweather_df\u001b[0m \u001b[1;33m=\u001b[0m \u001b[0mpd\u001b[0m\u001b[1;33m.\u001b[0m\u001b[0mDataFrame\u001b[0m\u001b[1;33m(\u001b[0m\u001b[0mdata\u001b[0m\u001b[1;33m,\u001b[0m \u001b[0mindex\u001b[0m \u001b[1;33m=\u001b[0m \u001b[0mname\u001b[0m\u001b[1;33m,\u001b[0m \u001b[0mcolumns\u001b[0m \u001b[1;33m=\u001b[0m \u001b[1;33m[\u001b[0m\u001b[1;34m'City_Name'\u001b[0m\u001b[1;33m,\u001b[0m \u001b[1;34m'Longitude'\u001b[0m\u001b[1;33m,\u001b[0m \u001b[1;34m'Latitude'\u001b[0m\u001b[1;33m,\u001b[0m \u001b[1;34m'temperature'\u001b[0m\u001b[1;33m,\u001b[0m \u001b[1;34m'Humidity'\u001b[0m\u001b[1;33m,\u001b[0m \u001b[1;34m'Cloudiness'\u001b[0m\u001b[1;33m,\u001b[0m \u001b[1;34m'Wind_Speed'\u001b[0m\u001b[1;33m]\u001b[0m\u001b[1;33m,\u001b[0m \u001b[0mcopy\u001b[0m\u001b[1;33m=\u001b[0m\u001b[1;32mFalse\u001b[0m\u001b[1;33m)\u001b[0m\u001b[1;33m\u001b[0m\u001b[0m\n\u001b[0m\u001b[0;32m     16\u001b[0m \u001b[1;33m\u001b[0m\u001b[0m\n\u001b[0;32m     17\u001b[0m \u001b[0mweather_df\u001b[0m\u001b[1;33m.\u001b[0m\u001b[0mto_csv\u001b[0m\u001b[1;33m(\u001b[0m\u001b[0mWeather_world\u001b[0m\u001b[1;33m,\u001b[0m \u001b[0mencoding\u001b[0m\u001b[1;33m=\u001b[0m\u001b[1;34m'utf-8'\u001b[0m\u001b[1;33m)\u001b[0m\u001b[1;33m\u001b[0m\u001b[0m\n",
      "\u001b[1;32m~\\Anaconda3\\lib\\site-packages\\pandas\\core\\frame.py\u001b[0m in \u001b[0;36m__init__\u001b[1;34m(self, data, index, columns, dtype, copy)\u001b[0m\n\u001b[0;32m    325\u001b[0m \u001b[1;33m\u001b[0m\u001b[0m\n\u001b[0;32m    326\u001b[0m                     mgr = _arrays_to_mgr(arrays, columns, index, columns,\n\u001b[1;32m--> 327\u001b[1;33m                                          dtype=dtype)\n\u001b[0m\u001b[0;32m    328\u001b[0m                 \u001b[1;32melse\u001b[0m\u001b[1;33m:\u001b[0m\u001b[1;33m\u001b[0m\u001b[0m\n\u001b[0;32m    329\u001b[0m                     mgr = self._init_ndarray(data, index, columns, dtype=dtype,\n",
      "\u001b[1;32m~\\Anaconda3\\lib\\site-packages\\pandas\\core\\frame.py\u001b[0m in \u001b[0;36m_arrays_to_mgr\u001b[1;34m(arrays, arr_names, index, columns, dtype)\u001b[0m\n\u001b[0;32m   5504\u001b[0m     \u001b[0maxes\u001b[0m \u001b[1;33m=\u001b[0m \u001b[1;33m[\u001b[0m\u001b[0m_ensure_index\u001b[0m\u001b[1;33m(\u001b[0m\u001b[0mcolumns\u001b[0m\u001b[1;33m)\u001b[0m\u001b[1;33m,\u001b[0m \u001b[0m_ensure_index\u001b[0m\u001b[1;33m(\u001b[0m\u001b[0mindex\u001b[0m\u001b[1;33m)\u001b[0m\u001b[1;33m]\u001b[0m\u001b[1;33m\u001b[0m\u001b[0m\n\u001b[0;32m   5505\u001b[0m \u001b[1;33m\u001b[0m\u001b[0m\n\u001b[1;32m-> 5506\u001b[1;33m     \u001b[1;32mreturn\u001b[0m \u001b[0mcreate_block_manager_from_arrays\u001b[0m\u001b[1;33m(\u001b[0m\u001b[0marrays\u001b[0m\u001b[1;33m,\u001b[0m \u001b[0marr_names\u001b[0m\u001b[1;33m,\u001b[0m \u001b[0maxes\u001b[0m\u001b[1;33m)\u001b[0m\u001b[1;33m\u001b[0m\u001b[0m\n\u001b[0m\u001b[0;32m   5507\u001b[0m \u001b[1;33m\u001b[0m\u001b[0m\n\u001b[0;32m   5508\u001b[0m \u001b[1;33m\u001b[0m\u001b[0m\n",
      "\u001b[1;32m~\\Anaconda3\\lib\\site-packages\\pandas\\core\\internals.py\u001b[0m in \u001b[0;36mcreate_block_manager_from_arrays\u001b[1;34m(arrays, names, axes)\u001b[0m\n\u001b[0;32m   4312\u001b[0m         \u001b[1;32mreturn\u001b[0m \u001b[0mmgr\u001b[0m\u001b[1;33m\u001b[0m\u001b[0m\n\u001b[0;32m   4313\u001b[0m     \u001b[1;32mexcept\u001b[0m \u001b[0mValueError\u001b[0m \u001b[1;32mas\u001b[0m \u001b[0me\u001b[0m\u001b[1;33m:\u001b[0m\u001b[1;33m\u001b[0m\u001b[0m\n\u001b[1;32m-> 4314\u001b[1;33m         \u001b[0mconstruction_error\u001b[0m\u001b[1;33m(\u001b[0m\u001b[0mlen\u001b[0m\u001b[1;33m(\u001b[0m\u001b[0marrays\u001b[0m\u001b[1;33m)\u001b[0m\u001b[1;33m,\u001b[0m \u001b[0marrays\u001b[0m\u001b[1;33m[\u001b[0m\u001b[1;36m0\u001b[0m\u001b[1;33m]\u001b[0m\u001b[1;33m.\u001b[0m\u001b[0mshape\u001b[0m\u001b[1;33m,\u001b[0m \u001b[0maxes\u001b[0m\u001b[1;33m,\u001b[0m \u001b[0me\u001b[0m\u001b[1;33m)\u001b[0m\u001b[1;33m\u001b[0m\u001b[0m\n\u001b[0m\u001b[0;32m   4315\u001b[0m \u001b[1;33m\u001b[0m\u001b[0m\n\u001b[0;32m   4316\u001b[0m \u001b[1;33m\u001b[0m\u001b[0m\n",
      "\u001b[1;32m~\\Anaconda3\\lib\\site-packages\\pandas\\core\\internals.py\u001b[0m in \u001b[0;36mconstruction_error\u001b[1;34m(tot_items, block_shape, axes, e)\u001b[0m\n\u001b[0;32m   4278\u001b[0m         \u001b[1;32mraise\u001b[0m \u001b[0mValueError\u001b[0m\u001b[1;33m(\u001b[0m\u001b[1;34m\"Empty data passed with indices specified.\"\u001b[0m\u001b[1;33m)\u001b[0m\u001b[1;33m\u001b[0m\u001b[0m\n\u001b[0;32m   4279\u001b[0m     raise ValueError(\"Shape of passed values is {0}, indices imply {1}\".format(\n\u001b[1;32m-> 4280\u001b[1;33m         passed, implied))\n\u001b[0m\u001b[0;32m   4281\u001b[0m \u001b[1;33m\u001b[0m\u001b[0m\n\u001b[0;32m   4282\u001b[0m \u001b[1;33m\u001b[0m\u001b[0m\n",
      "\u001b[1;31mValueError\u001b[0m: Shape of passed values is (7, 2), indices imply (7, 500)"
     ]
    }
   ],
   "source": [
    "\n",
    "# Extract Information of the targeted cities\n",
    "api_key = \"25bc90a1196e6f153eece0bc0b0fc9eb\"\n",
    "settings = {\"units\": \"metric\", \"appid\": api_key}\n",
    "\n",
    "try:\n",
    "    name_of_city = [city[0] for city in name_of_city]\n",
    "    weather_city = [ow.get_current(city, **settings) for city in name_of_city]\n",
    "    summary = [\"name\", \"coord.lon\", \"coord.lat\", \"main.temp\", \"main.humidity\", \"clouds.all\", \"wind.speed\"]\n",
    "    data = [response(*summary) for response in weather_city]\n",
    "    \n",
    "except Exception:\n",
    "    pass\n",
    "    \n",
    "weather_df = pd.DataFrame(data, index = name, columns = ['City_Name', 'Longitude', 'Latitude', 'temperature', 'Humidity', 'Cloudiness', 'Wind_Speed'], copy=False)\n",
    "\n",
    "weather_df.to_csv(Weather_world, encoding='utf-8')\n",
    "\n",
    "weather_df.head()\n"
   ]
  },
  {
   "cell_type": "code",
   "execution_count": 88,
   "metadata": {},
   "outputs": [
    {
     "data": {
      "image/png": "[encoded data removed]",
      "text/plain": [
       "<matplotlib.figure.Figure at 0xcb60581470>"
      ]
     },
     "metadata": {},
     "output_type": "display_data"
    }
   ],
   "source": [
    "# Scatter plot for temperature vs Latitude\n",
    "plt.scatter(weather_df.temperature, \n",
    "            weather_df.Latitude, \n",
    "            c=\"coral\", \n",
    "            edgecolor=\"black\", linewidths=1, marker=\"o\", \n",
    "            alpha=0.8)\n",
    "\n",
    "# Incorporate the other graph properties\n",
    "plt.title(\"Temperature At Different Latitudes\")\n",
    "plt.ylabel(\"Latitude\")\n",
    "plt.xlabel(\"Temperature\")\n",
    "plt.grid(True)\n",
    "\n",
    "\n",
    "# Save Figure\n",
    "plt.savefig(\"analysis/Fig1.png\")\n",
    "\n",
    "# Show plot\n",
    "plt.show()"
   ]
  },
  {
   "cell_type": "code",
   "execution_count": null,
   "metadata": {
    "collapsed": true
   },
   "outputs": [],
   "source": [
    "# Scatter plot for Humidity vs Latitude\n",
    "plt.scatter(weather_df.humidity, \n",
    "            weather_df.Latitude, \n",
    "            c=\"coral\", \n",
    "            edgecolor=\"black\", linewidths=1, marker=\"o\", \n",
    "            alpha=0.8)\n",
    "\n",
    "# Incorporate the other graph properties\n",
    "plt.title(\"Humidity At Different Latitudes\")\n",
    "plt.ylabel(\"Latitude\")\n",
    "plt.xlabel(\"Humidity\")\n",
    "plt.grid(True)\n",
    "\n",
    "\n",
    "# Save Figure\n",
    "plt.savefig(\"analysis/Fig2.png\")\n",
    "\n",
    "# Show plot\n",
    "plt.show()"
   ]
  },
  {
   "cell_type": "code",
   "execution_count": null,
   "metadata": {
    "collapsed": true
   },
   "outputs": [],
   "source": [
    "# Scatter plot for Cloudiness vs Latitude\n",
    "plt.scatter(weather_df.Cloudiness, \n",
    "            weather_df.Latitude, \n",
    "            c=\"coral\", \n",
    "            edgecolor=\"black\", linewidths=1, marker=\"o\", \n",
    "            alpha=0.8)\n",
    "\n",
    "# Incorporate the other graph properties\n",
    "plt.title(\"Cloudiness (%) At Different Latitudes\")\n",
    "plt.ylabel(\"Latitude\")\n",
    "plt.xlabel(\"Cloudiness\")\n",
    "plt.grid(True)\n",
    "\n",
    "\n",
    "# Save Figure\n",
    "plt.savefig(\"analysis/Fig3.png\")\n",
    "\n",
    "# Show plot\n",
    "plt.show()"
   ]
  },
  {
   "cell_type": "code",
   "execution_count": null,
   "metadata": {
    "collapsed": true
   },
   "outputs": [],
   "source": [
    "# Scatter plot for Wind Speed (mph) vs Latitude\n",
    "plt.scatter(weather_df.Wind_speed, \n",
    "            weather_df.Latitude, \n",
    "            c=\"coral\", \n",
    "            edgecolor=\"black\", linewidths=1, marker=\"o\", \n",
    "            alpha=0.8)\n",
    "\n",
    "# Incorporate the other graph properties\n",
    "plt.title(\"Wind Speed (mph) At Different Latitudes\")\n",
    "plt.ylabel(\"Latitude\")\n",
    "plt.xlabel(\"Wind Speed (mph)\")\n",
    "plt.grid(True)\n",
    "\n",
    "\n",
    "# Save Figure\n",
    "plt.savefig(\"analysis/Fig4.png\")\n",
    "\n",
    "# Show plot\n",
    "plt.show()"
   ]
  }
 ],
 "metadata": {
  "kernelspec": {
   "display_name": "Python [conda root]",
   "language": "python",
   "name": "conda-root-py"
  },
  "language_info": {
   "codemirror_mode": {
    "name": "ipython",
    "version": 3
   },
   "file_extension": ".py",
   "mimetype": "text/x-python",
   "name": "python",
   "nbconvert_exporter": "python",
   "pygments_lexer": "ipython3",
   "version": "3.6.3"
  }
 },
 "nbformat": 4,
 "nbformat_minor": 2
}
